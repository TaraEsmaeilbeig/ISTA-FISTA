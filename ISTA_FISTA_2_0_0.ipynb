{
  "nbformat": 4,
  "nbformat_minor": 0,
  "metadata": {
    "colab": {
      "provenance": []
    },
    "kernelspec": {
      "name": "python3",
      "display_name": "Python 3"
    },
    "language_info": {
      "name": "python"
    }
  },
  "cells": [
    {
      "cell_type": "code",
      "source": [
        "#!/usr/bin/env python\n",
        "# Tara (Zahra) Esmaeilbeig Dec2023\n",
        "# Solve LASSO regression problem with ISTA and FISTA\n",
        "\n",
        "import time\n",
        "from math import sqrt\n",
        "import numpy as np\n",
        "from scipy import linalg\n",
        "import torch as tc"
      ],
      "metadata": {
        "id": "yZ6BfsgTOfge"
      },
      "execution_count": 1,
      "outputs": []
    },
    {
      "cell_type": "code",
      "source": [
        "def add_AWGN(X,target_snr):\n",
        "    n= X.shape[0]\n",
        "    y=X\n",
        "    for i  in range(n):\n",
        "        sig_avg_watts = np.mean(np.power(X[i],2)) #signal power\n",
        "        sig_avg_db = 10 * np.log10(sig_avg_watts)\n",
        "        noise_avg_db = sig_avg_db - target_snr\n",
        "        noise_avg_watts = 10 ** (noise_avg_db / 10)\n",
        "        mean_noise = 0\n",
        "        noise= np.random.normal(mean_noise, np.sqrt(noise_avg_watts), 1)\n",
        "        y[i] = X[i] + noise\n",
        "\n",
        "    return y\n",
        "def soft_thresh(x, l):\n",
        "    return np.sign(x) * np.maximum(np.abs(x) - l, 0.)\n",
        "\n",
        "\n",
        "def ISTA(A, b, lambdaa, maxit,x0):\n",
        "    x = np.zeros((A.shape[1],1))\n",
        "    pobj = []\n",
        "    nmse_val=[]\n",
        "    L = linalg.norm(A) ** 2  # Lipschitz constant\n",
        "    print('L=',L)\n",
        "    time0 = time.time()\n",
        "    for _ in range(maxit):\n",
        "        #print('x',x.shape)\n",
        "        #print('b',b.shape)\n",
        "        #print('A',A.shape)\n",
        "        x = soft_thresh(x + np.dot(A.T, b - A.dot(x)) / L, lambdaa / L)\n",
        "        LASSO_obj = 0.5 * linalg.norm(A.dot(x) - b) ** 2 + lambdaa * linalg.norm(x, 1)\n",
        "        pobj.append((time.time() - time0, LASSO_obj))\n",
        "        nmse_val.append(nmse(x,x0))\n",
        "\n",
        "    times, pobj = map(np.array, zip(*pobj))\n",
        "    return x, pobj, times,nmse_val\n",
        "\n",
        "def FISTA(A, b, lambdaa, maxit,x0):\n",
        "    x = np.zeros((A.shape[1],1))\n",
        "    pobj = []\n",
        "    nmse_val=[]\n",
        "    t = 1\n",
        "    z = x.copy()\n",
        "    L = linalg.norm(A) ** 2\n",
        "    time0 = time.time()\n",
        "    for _ in range(maxit):\n",
        "        xold = x.copy()\n",
        "        z = z + A.T.dot(b - A.dot(z)) / L\n",
        "        x = soft_thresh(z, lambdaa / L)\n",
        "        t0 = t\n",
        "        t = (1. + sqrt(1. + 4. * t ** 2)) / 2.\n",
        "        z = x + ((t0 - 1.) / t) * (x - xold)\n",
        "        LASSO_obj  = 0.5 * linalg.norm(A.dot(x) - b) ** 2 + lambdaa * linalg.norm(x, 1)\n",
        "        pobj.append((time.time() - time0, LASSO_obj ))\n",
        "        nmse_val.append(nmse(x,x0))\n",
        "\n",
        "    times, pobj = map(np.array, zip(*pobj))\n",
        "    return x, pobj, times,nmse_val\n",
        "\n",
        "def create_quantization_levels(delta, K):\n",
        "    # Calculate the spacing\n",
        "    spacing = delta/2\n",
        "    quantization_levels=[]\n",
        "    # Create a dictionary with quantization levels\n",
        "    for i in np.arange(1, K,2):\n",
        "       quantization_levels.append(i*spacing)\n",
        "       quantization_levels.append(-i*spacing)\n",
        "\n",
        "    return np.sort(quantization_levels)\n",
        "\n",
        "def quantize(x,levels):\n",
        "  #print(x.shape)\n",
        "  assigned_levels=np.zeros(x.shape)\n",
        "  for i in range(x.shape[0]):\n",
        "    for j in range(x.shape[1]):\n",
        "        # Get each element from the 2D array\n",
        "        element = x[i, j]\n",
        "\n",
        "        # Calculate distances between the element and quantization levels\n",
        "        distances = np.abs(element - levels)\n",
        "\n",
        "        # Find the index of the closest quantization level\n",
        "        closest_index = np.argmin(distances)\n",
        "\n",
        "        # Assign the closest quantization level to the corresponding index\n",
        "        assigned_levels[i, j] = levels[closest_index]\n",
        "\n",
        "\n",
        "\n",
        "  return  assigned_levels\n",
        "\n",
        "def quantize_dither(x,levels,delta):\n",
        "  #print(x.shape)\n",
        "  assigned_levels=np.zeros(x.shape)\n",
        "  for i in range(x.shape[0]):\n",
        "    for j in range(x.shape[1]):\n",
        "\n",
        "\n",
        "\n",
        "        assigned_levels[i, j] = (np.floor(x[i,j]/delta)+1/2 )*delta\n",
        "\n",
        "\n",
        "\n",
        "  return  assigned_levels\n",
        "def nmse(x, x_star):\n",
        "\n",
        "    x_star=x_star\n",
        "\n",
        "    #mse = np.mean((x - x_star)**2)\n",
        "    mse = np.linalg.norm(x - x_star)\n",
        "\n",
        "    norm_x_star = np.linalg.norm(x_star)\n",
        "\n",
        "\n",
        "    normalized_mse = mse / (norm_x_star + 1e-8)\n",
        "    #normalized_mse = mse / norm_x_star\n",
        "    nmse=np.mean(normalized_mse)\n",
        "\n",
        "    return nmse"
      ],
      "metadata": {
        "id": "q1_vUytuKg_R"
      },
      "execution_count": 2,
      "outputs": []
    },
    {
      "cell_type": "code",
      "execution_count": 3,
      "metadata": {
        "colab": {
          "base_uri": "https://localhost:8080/",
          "height": 897
        },
        "id": "PkPBiAI8Iut4",
        "outputId": "6358bd29-d256-4b7a-cd0c-9268740cbf3b"
      },
      "outputs": [
        {
          "output_type": "stream",
          "name": "stdout",
          "text": [
            "nonzero count 6\n",
            "L= 100180.36551424242\n"
          ]
        },
        {
          "output_type": "display_data",
          "data": {
            "text/plain": [
              "<Figure size 640x480 with 1 Axes>"
            ],
            "image/png": "[encoded data removed]"
          },
          "metadata": {}
        },
        {
          "output_type": "display_data",
          "data": {
            "text/plain": [
              "<Figure size 640x480 with 1 Axes>"
            ],
            "image/png": "[encoded data removed]"
          },
          "metadata": {}
        }
      ],
      "source": [
        "rng = np.random.RandomState(42)\n",
        "m, n = 1000, 100\n",
        "SNR=20\n",
        "# random design\n",
        "A = rng.randn(m, n)  # random design\n",
        "\n",
        "\n",
        "nonzero_prob=0.1\n",
        "lambdaa = 0.1  # regularization parameter\n",
        "x0= np.random.choice([0, 1], size=(n,1), p=[1-nonzero_prob, nonzero_prob]) #sparse signal generation\n",
        "\n",
        "scales=np.random.normal(0, 1, (n,1))\n",
        "x0=np.multiply(scales,x0)\n",
        "print('nonzero count',np.count_nonzero(x0))\n",
        "b = np.dot(A, x0)\n",
        "b=add_AWGN(b,SNR)\n",
        "\n",
        "maxit = 3000\n",
        "x_ista, LASSOobj_ista, times_ista,nmse_ista = ISTA(A, b, lambdaa, maxit,x0)\n",
        "\n",
        "x_fista, LASSOobj_fista, times_fista,nmse_fista =FISTA(A, b, lambdaa, maxit,x0)\n",
        "\n",
        "import matplotlib.pyplot as plt\n",
        "plt.close('all')\n",
        "\n",
        "plt.figure()\n",
        "plt.stem(x0, markerfmt='go')\n",
        "plt.stem(x_ista, markerfmt='bo')\n",
        "plt.stem(x_fista, markerfmt='ro')\n",
        "\n",
        "plt.figure()\n",
        "plt.plot(times_ista, LASSOobj_ista, label='ISTA')\n",
        "plt.plot(times_fista, LASSOobj_fista, label='FISTA')\n",
        "plt.xlabel('Time')\n",
        "plt.ylabel('LASSO objective')\n",
        "plt.legend()\n",
        "\n",
        "\n",
        "plt.show()"
      ]
    }
  ]
}